{
 "cells": [
  {
   "cell_type": "markdown",
   "metadata": {},
   "source": [
    "# San Francisco Rental Prices Dashboard\n",
    "\n",
    "In this notebook, you will compile the visualizations from the previous analysis into functions that can be used for a Panel dashboard."
   ]
  },
  {
   "cell_type": "code",
   "execution_count": 7,
   "metadata": {},
   "outputs": [],
   "source": [
    "# imports\n",
    "import panel as pn\n",
    "pn.extension('plotly')\n",
    "import plotly.express as px\n",
    "import pandas as pd\n",
    "import hvplot.pandas\n",
    "import matplotlib.pyplot as plt\n",
    "import os\n",
    "from pathlib import Path\n",
    "from dotenv import load_dotenv"
   ]
  },
  {
   "cell_type": "code",
   "execution_count": 8,
   "metadata": {},
   "outputs": [],
   "source": [
    "# Read the Mapbox API key\n",
    "load_dotenv()\n",
    "map_box_api = os.getenv(\"mapbox\")\n",
    "px.set_mapbox_access_token(map_box_api)"
   ]
  },
  {
   "cell_type": "markdown",
   "metadata": {},
   "source": [
    "# Import Data"
   ]
  },
  {
   "cell_type": "code",
   "execution_count": 9,
   "metadata": {},
   "outputs": [],
   "source": [
    "# Import the necessary CSVs to Pandas DataFrames\n",
    "file_path = Path(\"Data/sfo_neighborhoods_census_data.csv\")\n",
    "sfo_data = pd.read_csv(file_path, index_col=\"year\")\n",
    "\n",
    "file_path = Path(\"Data/neighborhoods_coordinates.csv\")\n",
    "neighborhood_locations = pd.read_csv(file_path)\n"
   ]
  },
  {
   "cell_type": "markdown",
   "metadata": {},
   "source": [
    "- - -"
   ]
  },
  {
   "cell_type": "markdown",
   "metadata": {},
   "source": [
    "## Panel Visualizations\n",
    "\n",
    "In this section, you will copy the code for each plot type from your analysis notebook and place it into separate functions that Panel can use to create panes for the dashboard. \n",
    "\n",
    "These functions will convert the plot object to a Panel pane.\n",
    "\n",
    "Be sure to include any DataFrame transformation/manipulation code required along with the plotting code.\n",
    "\n",
    "Return a Panel pane object from each function that can be used to build the dashboard.\n",
    "\n",
    "Note: Remove any `.show()` lines from the code. We want to return the plots instead of showing them. The Panel dashboard will then display the plots."
   ]
  },
  {
   "cell_type": "code",
   "execution_count": 18,
   "metadata": {},
   "outputs": [],
   "source": [
    "# Define Panel Visualization Functions\n",
    "def housing_units_per_year():\n",
    "    \"\"\"Housing Units Per Year.\"\"\"\n",
    "    \n",
    "    housing_units_per_year = sfo_data.groupby('year')['housing_units'].mean()\n",
    "\n",
    "    housing_hvplot = housing_units_per_year.hvplot.bar(x='year', \n",
    "                                                    y='housing_units', \n",
    "                                                    title='Housing Units For Sale Per Year',\n",
    "                                                    xlabel='year',\n",
    "                                                    ylabel='Units For Sale',\n",
    "                                                    ylim=(36000, 42000))\n",
    "    return housing_hvplot\n",
    "\n",
    "\n",
    "def average_gross_rent():\n",
    "    \"\"\"Average Gross Rent in San Francisco Per Year.\"\"\"\n",
    "    average_gross_rent_per_year = sfo_data.groupby('year')['gross_rent'].mean()\n",
    "    \n",
    "    average_rent_hvplot = average_gross_rent_per_year.hvplot.bar(x='year',\n",
    "                                                                 y='gross_rent',\n",
    "                                                                 title= 'Average Gross Rent in San Francisco Per Year',\n",
    "                                                                 xlabel='year',\n",
    "                                                                 ylabel= 'Average Gross Rent')\n",
    "    return average_rent_hvplot\n",
    "    \n",
    "\n",
    "\n",
    "\n",
    "def average_sales_price():\n",
    "    \"\"\"Average Sales Price Per Year.\"\"\"\n",
    "    \n",
    "    average_sales_price_per_year = sfo_data.groupby('year')['sale_price_sqr_foot'].mean()\n",
    "    \n",
    "    average_sales_price_per_year_hvplot = average_sales_price_per_year.hvplot.line(x='year',\n",
    "                                                                                   y='sale_price_sqr_foot',\n",
    "                                                                                   xlabel='Year',\n",
    "                                                                                   ylabel='Price Per Square Foot'\n",
    "                                                                                  )\n",
    "    return average_sales_price_per_year_hvplot\n",
    "\n",
    "\n",
    "\n",
    "def average_price_by_neighborhood():\n",
    "    \"\"\"Average Prices by Neighborhood.\"\"\"\n",
    "    \n",
    "    average_price_by_neighborhood = sfo_data.groupby('year','neighborhood')['sale_price_sqr_foot'].mean()\n",
    "    \n",
    "    average_price_by_neighborhood_hvplot = average_price_by_neighborhood.hvplot.line(x='year',\n",
    "                                                                                     y='sale_price_sqr_foot',\n",
    "                                                                                     xlabel= 'Year',\n",
    "                                                                                     ylabel='Price Per Square Foot'\n",
    "                                                                                    )\n",
    "    return average_price_by_neighborhood_hvplot\n",
    "\n",
    "\n",
    "\n",
    "def top_most_expensive_neighborhoods():\n",
    "    \"\"\"Top 10 Most Expensive Neighborhoods.\"\"\"\n",
    "    top_10_most_expensive = sfo_data.groupby('neighborhood')[['sale_price_sqr_foot','housing_untis','gross_rent']].mean()\n",
    "    \n",
    "    top_10_most_expensive_sorted = top_10_most_expensive.sort_values(by='sale_price_sqr_foot', ascending=False)\n",
    "    \n",
    "    top_10_most_expensive_sorted_hvplot = top_10_most_expensive_sorted['sale_price_sqr_foot'][:10].hvplot.bar(x='neighbprhood',\n",
    "                                                                                                              y='sale_price_sqr_foot',\n",
    "                                                                                                              rot=45,\n",
    "                                                                                                              title='Top 10 Most Expensive Neighborhoods',\n",
    "                                                                                                              xlabel='neighborhood',\n",
    "                                                                                                              ylabel='Price Per Square Foot',\n",
    "                                                                                                              ylim=((500,1000)))\n",
    "    return top_10_most_expensive_sorted_hvplot\n",
    "        \n",
    "\n",
    "\n",
    "def most_expensive_neighborhoods_rent_sales():\n",
    "    \"\"\"Comparison of Rent and Sales Prices of Most Expensive Neighborhoods.\"\"\"   \n",
    "    \n",
    "    rent_vs_sale_price = sfo_data.groupby('neighborhood')[['sale_price_sqr_foot','gross_rent']].mean()\n",
    "    \n",
    "    rent_vs_sale_price_sorted = rent_vs_sale_price.sort_values(by=['sale_price_sqr_foot','gross_rent'], ascending=False)\n",
    "    \n",
    "    rent_vs_sale_price_sorted_hvplot = rent_vs_sale_price_sorted ['sale_price_sqr_foot','gross_rent'].hvplot.bar(x='neighbprhood',\n",
    "                                                                                                              y='sale_price_sqr_foot',\n",
    "                                                                                                              rot=45,\n",
    "                                                                                                              title='Rent VS Sale Price',\n",
    "                                                                                                              xlabel='neighborhood',\n",
    "                                                                                                              ylabel='Price Per Square Foot',\n",
    "                                                                                                                 ylim=((500,1000)))\n",
    "                                                                      \n",
    "    return rent_vs_sale_price_sorted_hvplot\n",
    "    \n",
    "    \n",
    "def parallel_coordinates():\n",
    "    \"\"\"Parallel Coordinates Plot.\"\"\"\n",
    "\n",
    "    avgerage_values = sfo_data.groupby('neighborhood')[['sale_price_sqr_foot', 'housing_units', 'gross_rent']].mean()\n",
    "    avgerage_values_sorted = avgerage_values.sort_values(by='sale_price_sqr_foot', ascending=False)\n",
    "    \n",
    "    parallel_coordinates = px.parallel_coordinates(avgerage_values_sorted[:10], \n",
    "                                          color='sale_price_sqr_foot')\n",
    "    \n",
    "    return parallel_coordinates\n",
    "\n",
    "\n",
    "\n",
    "def parallel_categories():\n",
    "    \"\"\"Parallel Categories Plot.\"\"\"\n",
    "    \n",
    "    avgerage_values_2 = sfo_data.groupby('neighborhood')[['sale_price_sqr_foot', 'housing_units', 'gross_rent']].mean()\n",
    "    avgerage_values_sorted_2= avgerage_values_2.sort_values(by='sale_price_sqr_foot', ascending=False)\n",
    "    \n",
    "    parallel_categories = px.parallel_categories(avgerage_values_sorted_2[:10], \n",
    "                                    dimensions=[avgerage_values_sorted_2[:10].index, \n",
    "                                                'sale_price_sqr_foot', \n",
    "                                                'housing_units', \n",
    "                                                'gross_rent'\n",
    "                                               ],\n",
    "                                    color='sale_price_sqr_foot',\n",
    "                                    labels={'sale_price_sqr_foot': 'Sales Price', \n",
    "                                            'housing_units': 'Available Units',\n",
    "                                            'gross_rent': 'Gross Rent'\n",
    "                                            }\n",
    "                                   )\n",
    "    \n",
    "    return parallel_categories\n",
    "\n",
    "\n",
    "\n",
    "\n",
    "def neighborhood_map():\n",
    "    \"\"\"Neighborhood Map.\"\"\"\n",
    "\n",
    "    avgerage_values = sfo_data.groupby('neighborhood')[['sale_price_sqr_foot', 'housing_units', 'gross_rent']].mean()\n",
    "    location = df_neighborhood_locations.rename(columns={'Neighborhood': 'neighborhood'})\n",
    "    location_indexed = locations.set_index('neighborhood', inplace=False)\n",
    "    location_avgerage_values = pd.concat([avgerage_values, location_indexed], axis='columns', join='inner')\n",
    "    \n",
    "    neighborhood_map = px.scatter_mapbox(\n",
    "    location_avgerage_values,\n",
    "    lat='Lat',\n",
    "    lon='Lon',\n",
    "    size='housing_units',\n",
    "    color='gross_rent',\n",
    "    text=location_avgerage_values.index,\n",
    "    zoom=10.5,\n",
    "    labels={'Lat': 'Latitude', \n",
    "            'Lon': 'Longitude', \n",
    "            'gross_rent': 'Gross Rent', \n",
    "            'housing_units': 'Housing Units',\n",
    "            'neighborhood': 'Neighborhood'},\n",
    "    title='San Francisco CA Neighborhoods'\n",
    "        )\n",
    "    \n",
    "    return neighborhood_map\n",
    "\n",
    "\n",
    "def sunburst():\n",
    "    #\"\"\"Sunburst Plot.\"\"\"\n",
    "    sunburst = sfo_data.groupby('neighborhood')[['sale_price_sqr_foot', 'housing_units', 'gross_rent']].mean()\n",
    "  \n",
    "    sunburst_plot= px.sunburst(sunburst, path=['sale_price_sqr_foot','housing_units', 'gross_rent'], \n",
    "                  values='gross_rent')\n",
    "\n",
    "    return sunburst_plot\n"
   ]
  },
  {
   "cell_type": "markdown",
   "metadata": {},
   "source": [
    "## Panel Dashboard\n",
    "\n",
    "In this section, you will combine all of the plots into a single dashboard view using Panel. Be creative with your dashboard design!"
   ]
  },
  {
   "cell_type": "code",
   "execution_count": 19,
   "metadata": {},
   "outputs": [
    {
     "ename": "ValueError",
     "evalue": "No axis named neighborhood for object type <class 'pandas.core.frame.DataFrame'>",
     "output_type": "error",
     "traceback": [
      "\u001b[0;31m---------------------------------------------------------------------------\u001b[0m",
      "\u001b[0;31mValueError\u001b[0m                                Traceback (most recent call last)",
      "\u001b[0;32m<ipython-input-19-1778d1d3dc23>\u001b[0m in \u001b[0;36m<module>\u001b[0;34m\u001b[0m\n\u001b[1;32m      9\u001b[0m \u001b[0;34m\u001b[0m\u001b[0m\n\u001b[1;32m     10\u001b[0m \u001b[0mprices_column\u001b[0m \u001b[0;34m=\u001b[0m \u001b[0mpn\u001b[0m\u001b[0;34m.\u001b[0m\u001b[0mColumn\u001b[0m\u001b[0;34m(\u001b[0m\u001b[0maverage_gross_rent\u001b[0m\u001b[0;34m(\u001b[0m\u001b[0;34m)\u001b[0m\u001b[0;34m,\u001b[0m \u001b[0maverage_sales_price\u001b[0m\u001b[0;34m(\u001b[0m\u001b[0;34m)\u001b[0m\u001b[0;34m)\u001b[0m\u001b[0;34m\u001b[0m\u001b[0;34m\u001b[0m\u001b[0m\n\u001b[0;32m---> 11\u001b[0;31m \u001b[0mneighborhood_column\u001b[0m \u001b[0;34m=\u001b[0m \u001b[0mpn\u001b[0m\u001b[0;34m.\u001b[0m\u001b[0mColumn\u001b[0m\u001b[0;34m(\u001b[0m\u001b[0maverage_price_by_neighborhood\u001b[0m\u001b[0;34m(\u001b[0m\u001b[0;34m)\u001b[0m\u001b[0;34m,\u001b[0m \u001b[0mtop_most_expensive_neighborhoods\u001b[0m\u001b[0;34m(\u001b[0m\u001b[0;34m)\u001b[0m\u001b[0;34m)\u001b[0m\u001b[0;34m\u001b[0m\u001b[0;34m\u001b[0m\u001b[0m\n\u001b[0m\u001b[1;32m     12\u001b[0m \u001b[0mparallel_column\u001b[0m \u001b[0;34m=\u001b[0m \u001b[0mpn\u001b[0m\u001b[0;34m.\u001b[0m\u001b[0mColumn\u001b[0m\u001b[0;34m(\u001b[0m\u001b[0mparallel_categories\u001b[0m\u001b[0;34m(\u001b[0m\u001b[0;34m)\u001b[0m\u001b[0;34m,\u001b[0m \u001b[0mparallel_coordinates\u001b[0m\u001b[0;34m(\u001b[0m\u001b[0;34m)\u001b[0m\u001b[0;34m)\u001b[0m\u001b[0;34m\u001b[0m\u001b[0;34m\u001b[0m\u001b[0m\n\u001b[1;32m     13\u001b[0m \u001b[0;34m\u001b[0m\u001b[0m\n",
      "\u001b[0;32m<ipython-input-18-cc31e46ad456>\u001b[0m in \u001b[0;36maverage_price_by_neighborhood\u001b[0;34m()\u001b[0m\n\u001b[1;32m     45\u001b[0m     \u001b[0;34m\"\"\"Average Prices by Neighborhood.\"\"\"\u001b[0m\u001b[0;34m\u001b[0m\u001b[0;34m\u001b[0m\u001b[0m\n\u001b[1;32m     46\u001b[0m \u001b[0;34m\u001b[0m\u001b[0m\n\u001b[0;32m---> 47\u001b[0;31m     \u001b[0maverage_price_by_neighborhood\u001b[0m \u001b[0;34m=\u001b[0m \u001b[0msfo_data\u001b[0m\u001b[0;34m.\u001b[0m\u001b[0mgroupby\u001b[0m\u001b[0;34m(\u001b[0m\u001b[0;34m'year'\u001b[0m\u001b[0;34m,\u001b[0m\u001b[0;34m'neighborhood'\u001b[0m\u001b[0;34m)\u001b[0m\u001b[0;34m[\u001b[0m\u001b[0;34m'sale_price_sqr_foot'\u001b[0m\u001b[0;34m]\u001b[0m\u001b[0;34m.\u001b[0m\u001b[0mmean\u001b[0m\u001b[0;34m(\u001b[0m\u001b[0;34m)\u001b[0m\u001b[0;34m\u001b[0m\u001b[0;34m\u001b[0m\u001b[0m\n\u001b[0m\u001b[1;32m     48\u001b[0m \u001b[0;34m\u001b[0m\u001b[0m\n\u001b[1;32m     49\u001b[0m     average_price_by_neighborhood_hvplot = average_price_by_neighborhood.hvplot.line(x='year',\n",
      "\u001b[0;32m/opt/anaconda3/envs/pyvizenv/lib/python3.7/site-packages/pandas/core/generic.py\u001b[0m in \u001b[0;36mgroupby\u001b[0;34m(self, by, axis, level, as_index, sort, group_keys, squeeze, observed, **kwargs)\u001b[0m\n\u001b[1;32m   7881\u001b[0m         \u001b[0;32mif\u001b[0m \u001b[0mlevel\u001b[0m \u001b[0;32mis\u001b[0m \u001b[0;32mNone\u001b[0m \u001b[0;32mand\u001b[0m \u001b[0mby\u001b[0m \u001b[0;32mis\u001b[0m \u001b[0;32mNone\u001b[0m\u001b[0;34m:\u001b[0m\u001b[0;34m\u001b[0m\u001b[0;34m\u001b[0m\u001b[0m\n\u001b[1;32m   7882\u001b[0m             \u001b[0;32mraise\u001b[0m \u001b[0mTypeError\u001b[0m\u001b[0;34m(\u001b[0m\u001b[0;34m\"You have to supply one of 'by' and 'level'\"\u001b[0m\u001b[0;34m)\u001b[0m\u001b[0;34m\u001b[0m\u001b[0;34m\u001b[0m\u001b[0m\n\u001b[0;32m-> 7883\u001b[0;31m         \u001b[0maxis\u001b[0m \u001b[0;34m=\u001b[0m \u001b[0mself\u001b[0m\u001b[0;34m.\u001b[0m\u001b[0m_get_axis_number\u001b[0m\u001b[0;34m(\u001b[0m\u001b[0maxis\u001b[0m\u001b[0;34m)\u001b[0m\u001b[0;34m\u001b[0m\u001b[0;34m\u001b[0m\u001b[0m\n\u001b[0m\u001b[1;32m   7884\u001b[0m         return groupby(\n\u001b[1;32m   7885\u001b[0m             \u001b[0mself\u001b[0m\u001b[0;34m,\u001b[0m\u001b[0;34m\u001b[0m\u001b[0;34m\u001b[0m\u001b[0m\n",
      "\u001b[0;32m/opt/anaconda3/envs/pyvizenv/lib/python3.7/site-packages/pandas/core/generic.py\u001b[0m in \u001b[0;36m_get_axis_number\u001b[0;34m(cls, axis)\u001b[0m\n\u001b[1;32m    409\u001b[0m             \u001b[0;32mexcept\u001b[0m \u001b[0mKeyError\u001b[0m\u001b[0;34m:\u001b[0m\u001b[0;34m\u001b[0m\u001b[0;34m\u001b[0m\u001b[0m\n\u001b[1;32m    410\u001b[0m                 \u001b[0;32mpass\u001b[0m\u001b[0;34m\u001b[0m\u001b[0;34m\u001b[0m\u001b[0m\n\u001b[0;32m--> 411\u001b[0;31m         \u001b[0;32mraise\u001b[0m \u001b[0mValueError\u001b[0m\u001b[0;34m(\u001b[0m\u001b[0;34m\"No axis named {0} for object type {1}\"\u001b[0m\u001b[0;34m.\u001b[0m\u001b[0mformat\u001b[0m\u001b[0;34m(\u001b[0m\u001b[0maxis\u001b[0m\u001b[0;34m,\u001b[0m \u001b[0mcls\u001b[0m\u001b[0;34m)\u001b[0m\u001b[0;34m)\u001b[0m\u001b[0;34m\u001b[0m\u001b[0;34m\u001b[0m\u001b[0m\n\u001b[0m\u001b[1;32m    412\u001b[0m \u001b[0;34m\u001b[0m\u001b[0m\n\u001b[1;32m    413\u001b[0m     \u001b[0;34m@\u001b[0m\u001b[0mclassmethod\u001b[0m\u001b[0;34m\u001b[0m\u001b[0;34m\u001b[0m\u001b[0m\n",
      "\u001b[0;31mValueError\u001b[0m: No axis named neighborhood for object type <class 'pandas.core.frame.DataFrame'>"
     ]
    }
   ],
   "source": [
    "# Create a Title for the Dashboard\n",
    "variable_1 = housing_units_per_year()\n",
    "variable_2 = average_gross_rent()\n",
    "parallel_categories = parallel_categories()\n",
    "parallel_coordinates = parallel_coordinates()\n",
    "\n",
    "\n",
    "housing_row = pn.Row(housing_units_per_year())\n",
    "\n",
    "prices_column = pn.Column(average_gross_rent(), average_sales_price())\n",
    "neighborhood_column = pn.Column(average_price_by_neighborhood(), top_most_expensive_neighborhoods())\n",
    "parallel_column = pn.Column(parallel_categories(), parallel_coordinates())\n",
    "\n",
    "\n",
    "# Create a tab layout for the dashboard\n",
    "my_panel = pn.Tabs(\n",
    "        (\"Housing Units\", housing_row),\n",
    "        (\"Rent & Sales Prices\", price_column),\n",
    "        (\"Neighborhoods\", neighborhood_column),\n",
    "        (\"Parallel Charts\", parallel_column),\n",
    "        (\"Map\", neighborhood_map))\n",
    "\n",
    "\n",
    "# Create the dashboard\n",
    "print(type(variable_1), type(variable_2), type(parallel_categories), type(parallel_coordinates)) "
   ]
  },
  {
   "cell_type": "markdown",
   "metadata": {},
   "source": [
    "## Serve the Panel Dashboard"
   ]
  },
  {
   "cell_type": "code",
   "execution_count": 6,
   "metadata": {},
   "outputs": [],
   "source": [
    "# Serve the# dashboard\n",
    "# YOUR CODE HERE!"
   ]
  },
  {
   "cell_type": "markdown",
   "metadata": {},
   "source": [
    "# Debugging\n",
    "\n",
    "Note: Some of the Plotly express plots may not render in the notebook through the panel functions.\n",
    "\n",
    "However, you can test each plot by uncommenting the following code"
   ]
  },
  {
   "cell_type": "code",
   "execution_count": null,
   "metadata": {},
   "outputs": [],
   "source": [
    "# housing_units_per_year()"
   ]
  },
  {
   "cell_type": "code",
   "execution_count": null,
   "metadata": {},
   "outputs": [],
   "source": [
    "# average_gross_rent()"
   ]
  },
  {
   "cell_type": "code",
   "execution_count": null,
   "metadata": {},
   "outputs": [],
   "source": [
    "# average_sales_price()"
   ]
  },
  {
   "cell_type": "code",
   "execution_count": null,
   "metadata": {},
   "outputs": [],
   "source": [
    "# average_price_by_neighborhood()"
   ]
  },
  {
   "cell_type": "code",
   "execution_count": null,
   "metadata": {},
   "outputs": [],
   "source": [
    "# top_most_expensive_neighborhoods()"
   ]
  },
  {
   "cell_type": "code",
   "execution_count": null,
   "metadata": {},
   "outputs": [],
   "source": [
    "# most_expensive_neighborhoods_rent_sales()"
   ]
  },
  {
   "cell_type": "code",
   "execution_count": null,
   "metadata": {},
   "outputs": [],
   "source": [
    "# neighborhood_map().show()"
   ]
  },
  {
   "cell_type": "code",
   "execution_count": null,
   "metadata": {},
   "outputs": [],
   "source": [
    "# parallel_categories()"
   ]
  },
  {
   "cell_type": "code",
   "execution_count": null,
   "metadata": {},
   "outputs": [],
   "source": [
    "# parallel_coordinates()"
   ]
  },
  {
   "cell_type": "code",
   "execution_count": null,
   "metadata": {},
   "outputs": [],
   "source": [
    "# sunburst()"
   ]
  },
  {
   "cell_type": "code",
   "execution_count": null,
   "metadata": {},
   "outputs": [],
   "source": []
  }
 ],
 "metadata": {
  "file_extension": ".py",
  "kernelspec": {
   "display_name": "Python [conda env:pyvizenv]",
   "language": "python",
   "name": "conda-env-pyvizenv-py"
  },
  "language_info": {
   "codemirror_mode": {
    "name": "ipython",
    "version": 3
   },
   "file_extension": ".py",
   "mimetype": "text/x-python",
   "name": "python",
   "nbconvert_exporter": "python",
   "pygments_lexer": "ipython3",
   "version": "3.7.10"
  },
  "mimetype": "text/x-python",
  "name": "python",
  "npconvert_exporter": "python",
  "pygments_lexer": "ipython3",
  "version": 3
 },
 "nbformat": 4,
 "nbformat_minor": 4
}
